{
  "cells": [
    {
      "cell_type": "markdown",
      "metadata": {
        "id": "view-in-github",
        "colab_type": "text"
      },
      "source": [
        "<a href=\"https://colab.research.google.com/github/iimustafa/T5-TuwaiqCompetition/blob/main/T5-TuwaiqCompetition.ipynb\" target=\"_parent\"><img src=\"https://colab.research.google.com/assets/colab-badge.svg\" alt=\"Open In Colab\"/></a>"
      ]
    },
    {
      "cell_type": "code",
      "execution_count": 1,
      "id": "f376c4c6-9099-4e4b-abc9-851d32d4a23d",
      "metadata": {
        "colab": {
          "base_uri": "https://localhost:8080/"
        },
        "id": "f376c4c6-9099-4e4b-abc9-851d32d4a23d",
        "outputId": "62b0e01c-d4e2-4dfb-9b14-a75f3db2f577"
      },
      "outputs": [
        {
          "output_type": "stream",
          "name": "stdout",
          "text": [
            "Collecting translatepy\n",
            "  Downloading translatepy-2.3-py3-none-any.whl (814 kB)\n",
            "\u001b[?25l     \u001b[90m━━━━━━━━━━━━━━━━━━━━━━━━━━━━━━━━━━━━━━━━\u001b[0m \u001b[32m0.0/814.4 kB\u001b[0m \u001b[31m?\u001b[0m eta \u001b[36m-:--:--\u001b[0m\r\u001b[2K     \u001b[91m━━━━━\u001b[0m\u001b[90m╺\u001b[0m\u001b[90m━━━━━━━━━━━━━━━━━━━━━━━━━━━━━━━━━━\u001b[0m \u001b[32m102.4/814.4 kB\u001b[0m \u001b[31m2.8 MB/s\u001b[0m eta \u001b[36m0:00:01\u001b[0m\r\u001b[2K     \u001b[91m━━━━━━━━━━━━━━━━━━━━━━━━━━━━━\u001b[0m\u001b[90m╺\u001b[0m\u001b[90m━━━━━━━━━━\u001b[0m \u001b[32m593.9/814.4 kB\u001b[0m \u001b[31m8.2 MB/s\u001b[0m eta \u001b[36m0:00:01\u001b[0m\r\u001b[2K     \u001b[90m━━━━━━━━━━━━━━━━━━━━━━━━━━━━━━━━━━━━━━━━\u001b[0m \u001b[32m814.4/814.4 kB\u001b[0m \u001b[31m7.6 MB/s\u001b[0m eta \u001b[36m0:00:00\u001b[0m\n",
            "\u001b[?25hRequirement already satisfied: requests in /usr/local/lib/python3.10/dist-packages (from translatepy) (2.31.0)\n",
            "Collecting safeIO>=1.2 (from translatepy)\n",
            "  Downloading safeIO-1.2.tar.gz (8.0 kB)\n",
            "  Preparing metadata (setup.py) ... \u001b[?25l\u001b[?25hdone\n",
            "Requirement already satisfied: beautifulsoup4 in /usr/local/lib/python3.10/dist-packages (from translatepy) (4.12.3)\n",
            "Collecting pyuseragents (from translatepy)\n",
            "  Downloading pyuseragents-1.0.5-py3-none-any.whl (79 kB)\n",
            "\u001b[2K     \u001b[90m━━━━━━━━━━━━━━━━━━━━━━━━━━━━━━━━━━━━━━━━\u001b[0m \u001b[32m79.8/79.8 kB\u001b[0m \u001b[31m9.3 MB/s\u001b[0m eta \u001b[36m0:00:00\u001b[0m\n",
            "\u001b[?25hCollecting inquirer>=2.8.0 (from translatepy)\n",
            "  Downloading inquirer-3.2.4-py3-none-any.whl (18 kB)\n",
            "Collecting blessed>=1.19.0 (from inquirer>=2.8.0->translatepy)\n",
            "  Downloading blessed-1.20.0-py2.py3-none-any.whl (58 kB)\n",
            "\u001b[2K     \u001b[90m━━━━━━━━━━━━━━━━━━━━━━━━━━━━━━━━━━━━━━━━\u001b[0m \u001b[32m58.4/58.4 kB\u001b[0m \u001b[31m6.1 MB/s\u001b[0m eta \u001b[36m0:00:00\u001b[0m\n",
            "\u001b[?25hCollecting editor>=1.6.0 (from inquirer>=2.8.0->translatepy)\n",
            "  Downloading editor-1.6.6-py3-none-any.whl (4.0 kB)\n",
            "Collecting readchar>=3.0.6 (from inquirer>=2.8.0->translatepy)\n",
            "  Downloading readchar-4.0.6-py3-none-any.whl (8.5 kB)\n",
            "Requirement already satisfied: soupsieve>1.2 in /usr/local/lib/python3.10/dist-packages (from beautifulsoup4->translatepy) (2.5)\n",
            "Requirement already satisfied: charset-normalizer<4,>=2 in /usr/local/lib/python3.10/dist-packages (from requests->translatepy) (3.3.2)\n",
            "Requirement already satisfied: idna<4,>=2.5 in /usr/local/lib/python3.10/dist-packages (from requests->translatepy) (3.7)\n",
            "Requirement already satisfied: urllib3<3,>=1.21.1 in /usr/local/lib/python3.10/dist-packages (from requests->translatepy) (2.0.7)\n",
            "Requirement already satisfied: certifi>=2017.4.17 in /usr/local/lib/python3.10/dist-packages (from requests->translatepy) (2024.2.2)\n",
            "Requirement already satisfied: wcwidth>=0.1.4 in /usr/local/lib/python3.10/dist-packages (from blessed>=1.19.0->inquirer>=2.8.0->translatepy) (0.2.13)\n",
            "Requirement already satisfied: six>=1.9.0 in /usr/local/lib/python3.10/dist-packages (from blessed>=1.19.0->inquirer>=2.8.0->translatepy) (1.16.0)\n",
            "Collecting runs (from editor>=1.6.0->inquirer>=2.8.0->translatepy)\n",
            "  Downloading runs-1.2.2-py3-none-any.whl (7.0 kB)\n",
            "Collecting xmod (from editor>=1.6.0->inquirer>=2.8.0->translatepy)\n",
            "  Downloading xmod-1.8.1-py3-none-any.whl (4.6 kB)\n",
            "Requirement already satisfied: setuptools>=41.0 in /usr/local/lib/python3.10/dist-packages (from readchar>=3.0.6->inquirer>=2.8.0->translatepy) (67.7.2)\n",
            "Building wheels for collected packages: safeIO\n",
            "  Building wheel for safeIO (setup.py) ... \u001b[?25l\u001b[?25hdone\n",
            "  Created wheel for safeIO: filename=safeIO-1.2-py3-none-any.whl size=6732 sha256=227849cc8cbb64277f445bdd7b14424b50b5889b2227bec2b7b65812094c4231\n",
            "  Stored in directory: /root/.cache/pip/wheels/65/77/55/49296e806480db1fa92548fe2eb7447048830f14dbf3e34940\n",
            "Successfully built safeIO\n",
            "Installing collected packages: safeIO, pyuseragents, xmod, readchar, blessed, runs, editor, inquirer, translatepy\n",
            "Successfully installed blessed-1.20.0 editor-1.6.6 inquirer-3.2.4 pyuseragents-1.0.5 readchar-4.0.6 runs-1.2.2 safeIO-1.2 translatepy-2.3 xmod-1.8.1\n"
          ]
        }
      ],
      "source": [
        "pip install translatepy"
      ]
    },
    {
      "cell_type": "code",
      "execution_count": 2,
      "id": "54afd89d",
      "metadata": {
        "id": "54afd89d"
      },
      "outputs": [],
      "source": [
        "import pandas as pd\n",
        "from datetime import datetime\n",
        "from translatepy import Translator\n",
        "from sklearn.preprocessing import MinMaxScaler,OneHotEncoder,OrdinalEncoder\n",
        "from sklearn.linear_model import LogisticRegression\n",
        "from sklearn.model_selection import train_test_split\n",
        "from sklearn.metrics import accuracy_score\n",
        "from sklearn.tree import DecisionTreeClassifier\n",
        "from sklearn.ensemble import RandomForestClassifier\n",
        "from sklearn.neighbors import KNeighborsClassifier\n",
        "from sklearn.ensemble import VotingClassifier\n",
        "from sklearn.model_selection import GridSearchCV,RandomizedSearchCV\n",
        "from scipy.stats import randint\n",
        "from sklearn.svm import SVC\n",
        "import matplotlib.pyplot as plt\n",
        "import seaborn as sns\n",
        "from sklearn.metrics import confusion_matrix,classification_report\n",
        "import warnings\n",
        "warnings.filterwarnings(\"ignore\")"
      ]
    },
    {
      "cell_type": "code",
      "execution_count": 4,
      "id": "5db38034",
      "metadata": {
        "id": "5db38034",
        "scrolled": true
      },
      "outputs": [],
      "source": [
        "train_data = pd.read_csv('train.csv')\n",
        "test_data = pd.read_csv('test.csv')\n",
        "#train_data"
      ]
    },
    {
      "cell_type": "code",
      "execution_count": 5,
      "id": "bc435b8e",
      "metadata": {
        "id": "bc435b8e",
        "outputId": "76f33e63-98b0-405e-b387-a13f8313eb7e",
        "colab": {
          "base_uri": "https://localhost:8080/"
        }
      },
      "outputs": [
        {
          "output_type": "stream",
          "name": "stdout",
          "text": [
            "48\n",
            "4\n"
          ]
        }
      ],
      "source": [
        "print(train_data.duplicated().sum())\n",
        "print(test_data.duplicated().sum())\n",
        "#data[data.duplicated()]\n",
        "train_data.drop_duplicates(inplace=True)\n",
        "test_data.drop_duplicates(inplace=True)"
      ]
    },
    {
      "cell_type": "code",
      "execution_count": 6,
      "id": "903934b1",
      "metadata": {
        "id": "903934b1",
        "colab": {
          "base_uri": "https://localhost:8080/"
        },
        "outputId": "f3fa459e-9ae1-4705-ed36-177f1caaec4c"
      },
      "outputs": [
        {
          "output_type": "stream",
          "name": "stdout",
          "text": [
            "(6500, 24)\n",
            "(814, 23)\n"
          ]
        }
      ],
      "source": [
        "print(train_data.shape)\n",
        "print(test_data.shape)"
      ]
    },
    {
      "cell_type": "code",
      "execution_count": 7,
      "id": "1d08acaa",
      "metadata": {
        "id": "1d08acaa",
        "outputId": "41ac1863-357c-4a94-97f3-5f9d3a0f529b",
        "scrolled": true,
        "colab": {
          "base_uri": "https://localhost:8080/"
        }
      },
      "outputs": [
        {
          "output_type": "execute_result",
          "data": {
            "text/plain": [
              "Student ID                           0\n",
              "Age                                 87\n",
              "Gender                               0\n",
              "Home Region                          2\n",
              "Home City                            2\n",
              "Program ID                           0\n",
              "Program Main Category Code           0\n",
              "Program Sub Category Code          920\n",
              "Technology Type                   2958\n",
              "Program Skill Level               1645\n",
              "Program Presentation Method          0\n",
              "Program Start Date                   0\n",
              "Program End Date                     0\n",
              "Program Days                         0\n",
              "Completed Degree                     0\n",
              "Level of Education                  22\n",
              "Education Speaciality              272\n",
              "College                           3862\n",
              "University Degree Score             76\n",
              "University Degree Score System      76\n",
              "Employment Status                  557\n",
              "Job Type                          4535\n",
              "Still Working                     4535\n",
              "Y                                    0\n",
              "dtype: int64"
            ]
          },
          "metadata": {},
          "execution_count": 7
        }
      ],
      "source": [
        "train_data.isnull().sum()"
      ]
    },
    {
      "cell_type": "code",
      "execution_count": 8,
      "id": "5af1a615",
      "metadata": {
        "id": "5af1a615",
        "colab": {
          "base_uri": "https://localhost:8080/"
        },
        "outputId": "a173311b-02bb-4da0-9b17-f1a2fb04d180"
      },
      "outputs": [
        {
          "output_type": "execute_result",
          "data": {
            "text/plain": [
              "Student ID                          0\n",
              "Age                                14\n",
              "Gender                              0\n",
              "Home Region                         1\n",
              "Home City                           1\n",
              "Program ID                          0\n",
              "Program Main Category Code          0\n",
              "Program Sub Category Code         113\n",
              "Technology Type                   363\n",
              "Program Skill Level               200\n",
              "Program Presentation Method         0\n",
              "Program Start Date                  0\n",
              "Program End Date                    0\n",
              "Program Days                        0\n",
              "Completed Degree                    0\n",
              "Level of Education                  3\n",
              "Education Speaciality              37\n",
              "College                           490\n",
              "University Degree Score            11\n",
              "University Degree Score System     11\n",
              "Employment Status                  70\n",
              "Job Type                          578\n",
              "Still Working                     578\n",
              "dtype: int64"
            ]
          },
          "metadata": {},
          "execution_count": 8
        }
      ],
      "source": [
        "test_data.isnull().sum()"
      ]
    },
    {
      "cell_type": "code",
      "execution_count": 9,
      "id": "bef7102e",
      "metadata": {
        "id": "bef7102e"
      },
      "outputs": [],
      "source": [
        "train_data['University Degree Score System'].fillna(5, inplace=True)\n",
        "train_data['University Degree Score'].fillna(round(train_data[train_data['University Degree Score System'] == 5]['University Degree Score'].mean(),2), inplace=True)\n",
        "# ============================\n",
        "test_data['University Degree Score System'].fillna(5, inplace=True)\n",
        "test_data['University Degree Score'].fillna(round(test_data[test_data['University Degree Score System'] == 5]['University Degree Score'].mean(),2), inplace=True)\n"
      ]
    },
    {
      "cell_type": "code",
      "execution_count": 10,
      "id": "15638249",
      "metadata": {
        "id": "15638249"
      },
      "outputs": [],
      "source": [
        "train_data.dropna(subset=['Home Region','Home City'], inplace=True)\n",
        "#===========================\n",
        "test_data.dropna(subset=['Home Region','Home City'], inplace=True)"
      ]
    },
    {
      "cell_type": "code",
      "execution_count": 11,
      "id": "8258841f",
      "metadata": {
        "id": "8258841f"
      },
      "outputs": [],
      "source": [
        "train_data['Program Start Date'] = pd.to_datetime(train_data['Program Start Date'])\n",
        "train_data['Program End Date'] = pd.to_datetime(train_data['Program End Date'])\n",
        "train_data['Start_year'] = train_data['Program Start Date'].dt.year\n",
        "train_data['Start_month'] = train_data['Program Start Date'].dt.month\n",
        "train_data['Start_day'] = train_data['Program Start Date'].dt.day\n",
        "train_data['End_year'] = train_data['Program End Date'].dt.year\n",
        "train_data['End_month'] = train_data['Program End Date'].dt.month\n",
        "train_data['End_day'] = train_data['Program End Date'].dt.day\n",
        "train_data.drop(['Program Start Date', 'Program End Date'], axis=1, inplace=True)\n",
        "\n",
        "#======================================\n",
        "\n",
        "test_data['Program Start Date'] = pd.to_datetime(test_data['Program Start Date'])\n",
        "test_data['Program End Date'] = pd.to_datetime(test_data['Program End Date'])\n",
        "test_data['Start_year'] = test_data['Program Start Date'].dt.year\n",
        "test_data['Start_month'] = test_data['Program Start Date'].dt.month\n",
        "test_data['Start_day'] = test_data['Program Start Date'].dt.day\n",
        "test_data['End_year'] = test_data['Program End Date'].dt.year\n",
        "test_data['End_month'] = test_data['Program End Date'].dt.month\n",
        "test_data['End_day'] = test_data['Program End Date'].dt.day\n",
        "test_data.drop(['Program Start Date', 'Program End Date'], axis=1, inplace=True)"
      ]
    },
    {
      "cell_type": "code",
      "execution_count": 12,
      "id": "4687831f",
      "metadata": {
        "id": "4687831f",
        "outputId": "a99ea875-27ac-4e48-9cf9-b7c37928b3f1",
        "colab": {
          "base_uri": "https://localhost:8080/"
        }
      },
      "outputs": [
        {
          "output_type": "stream",
          "name": "stdout",
          "text": [
            "284\n",
            "Program Sub Category Code\n",
            "SWPS    1693\n",
            "CRDP     243\n",
            "ERST     135\n",
            "Name: count, dtype: int64\n",
            "31\n",
            "Program Sub Category Code\n",
            "SWPS    208\n",
            "CRDP     23\n",
            "ERST     21\n",
            "Name: count, dtype: int64\n"
          ]
        }
      ],
      "source": [
        "print(train_data[train_data['Program Main Category Code'] == 'CAUF']['Program Sub Category Code'].isnull().sum())\n",
        "print(train_data[train_data['Program Main Category Code'] == 'CAUF']['Program Sub Category Code'].value_counts())\n",
        "mode = train_data[train_data['Program Main Category Code'] == 'CAUF']['Program Sub Category Code'].mode()[0]\n",
        "train_data.loc[train_data['Program Main Category Code'] == 'CAUF', 'Program Sub Category Code'] = train_data[train_data['Program Main Category Code'] == 'CAUF']['Program Sub Category Code'].fillna(mode)\n",
        "\n",
        "#==================================\n",
        "\n",
        "print(test_data[test_data['Program Main Category Code'] == 'CAUF']['Program Sub Category Code'].isnull().sum())\n",
        "print(test_data[test_data['Program Main Category Code'] == 'CAUF']['Program Sub Category Code'].value_counts())\n",
        "mode = test_data[test_data['Program Main Category Code'] == 'CAUF']['Program Sub Category Code'].mode()[0]\n",
        "test_data.loc[test_data['Program Main Category Code'] == 'CAUF', 'Program Sub Category Code'] = test_data[test_data['Program Main Category Code'] == 'CAUF']['Program Sub Category Code'].fillna(mode)\n"
      ]
    },
    {
      "cell_type": "code",
      "execution_count": 13,
      "id": "dcdfdc00",
      "metadata": {
        "id": "dcdfdc00",
        "outputId": "91cc1179-78e7-4eac-b018-9a5fac6a7b08",
        "colab": {
          "base_uri": "https://localhost:8080/"
        }
      },
      "outputs": [
        {
          "output_type": "stream",
          "name": "stdout",
          "text": [
            "301\n",
            "Program Sub Category Code\n",
            "SRTA    698\n",
            "KLTM    117\n",
            "SWPS     93\n",
            "QTDY     49\n",
            "ASCW     36\n",
            "Name: count, dtype: int64\n",
            "43\n",
            "Program Sub Category Code\n",
            "SRTA    97\n",
            "KLTM    15\n",
            "SWPS     8\n",
            "QTDY     6\n",
            "ASCW     3\n",
            "Name: count, dtype: int64\n"
          ]
        }
      ],
      "source": [
        "print(train_data[train_data['Program Main Category Code'] == 'APMR']['Program Sub Category Code'].isnull().sum())\n",
        "print(train_data[train_data['Program Main Category Code'] == 'APMR']['Program Sub Category Code'].value_counts())\n",
        "mode = train_data[train_data['Program Main Category Code'] == 'APMR']['Program Sub Category Code'].mode()[0]\n",
        "train_data.loc[train_data['Program Main Category Code'] == 'APMR', 'Program Sub Category Code'] = train_data[train_data['Program Main Category Code'] == 'APMR']['Program Sub Category Code'].fillna(mode)\n",
        "\n",
        "#====================================\n",
        "\n",
        "print(test_data[test_data['Program Main Category Code'] == 'APMR']['Program Sub Category Code'].isnull().sum())\n",
        "print(test_data[test_data['Program Main Category Code'] == 'APMR']['Program Sub Category Code'].value_counts())\n",
        "mode = test_data[test_data['Program Main Category Code'] == 'APMR']['Program Sub Category Code'].mode()[0]\n",
        "test_data.loc[test_data['Program Main Category Code'] == 'APMR', 'Program Sub Category Code'] = test_data[test_data['Program Main Category Code'] == 'APMR']['Program Sub Category Code'].fillna(mode)"
      ]
    },
    {
      "cell_type": "code",
      "execution_count": 14,
      "id": "ad1e60ea",
      "metadata": {
        "id": "ad1e60ea",
        "outputId": "215b62a2-a0aa-4bbb-d982-f35be97f2c68",
        "colab": {
          "base_uri": "https://localhost:8080/"
        }
      },
      "outputs": [
        {
          "output_type": "stream",
          "name": "stdout",
          "text": [
            "193\n",
            "Program Sub Category Code\n",
            "TOSL    294\n",
            "Name: count, dtype: int64\n",
            "23\n",
            "Program Sub Category Code\n",
            "TOSL    32\n",
            "Name: count, dtype: int64\n"
          ]
        }
      ],
      "source": [
        "print(train_data[train_data['Program Main Category Code'] == 'TOSL']['Program Sub Category Code'].isnull().sum())\n",
        "print(train_data[train_data['Program Main Category Code'] == 'TOSL']['Program Sub Category Code'].value_counts())\n",
        "mode = train_data[train_data['Program Main Category Code'] == 'TOSL']['Program Sub Category Code'].mode()[0]\n",
        "train_data.loc[train_data['Program Main Category Code'] == 'TOSL', 'Program Sub Category Code'] = train_data[train_data['Program Main Category Code'] == 'TOSL']['Program Sub Category Code'].fillna(mode)\n",
        "\n",
        "#==================================\n",
        "\n",
        "print(test_data[test_data['Program Main Category Code'] == 'TOSL']['Program Sub Category Code'].isnull().sum())\n",
        "print(test_data[test_data['Program Main Category Code'] == 'TOSL']['Program Sub Category Code'].value_counts())\n",
        "mode = test_data[test_data['Program Main Category Code'] == 'TOSL']['Program Sub Category Code'].mode()[0]\n",
        "test_data.loc[test_data['Program Main Category Code'] == 'TOSL', 'Program Sub Category Code'] = test_data[test_data['Program Main Category Code'] == 'TOSL']['Program Sub Category Code'].fillna(mode)"
      ]
    },
    {
      "cell_type": "code",
      "execution_count": 15,
      "id": "a01fe707",
      "metadata": {
        "id": "a01fe707",
        "outputId": "c8df1d90-5295-400c-ef0b-a71ed299bb14",
        "colab": {
          "base_uri": "https://localhost:8080/"
        }
      },
      "outputs": [
        {
          "output_type": "stream",
          "name": "stdout",
          "text": [
            "78\n",
            "Program Sub Category Code\n",
            "INFA    106\n",
            "ABIR     19\n",
            "Name: count, dtype: int64\n",
            "9\n",
            "Program Sub Category Code\n",
            "INFA    14\n",
            "Name: count, dtype: int64\n"
          ]
        }
      ],
      "source": [
        "print(train_data[train_data['Program Main Category Code'] == 'ABIR']['Program Sub Category Code'].isnull().sum())\n",
        "print(train_data[train_data['Program Main Category Code'] == 'ABIR']['Program Sub Category Code'].value_counts())\n",
        "mode = train_data[train_data['Program Main Category Code'] == 'ABIR']['Program Sub Category Code'].mode()[0]\n",
        "train_data.loc[train_data['Program Main Category Code'] == 'ABIR', 'Program Sub Category Code'] = train_data[train_data['Program Main Category Code'] == 'ABIR']['Program Sub Category Code'].fillna(mode)\n",
        "\n",
        "#====================================\n",
        "\n",
        "print(test_data[test_data['Program Main Category Code'] == 'ABIR']['Program Sub Category Code'].isnull().sum())\n",
        "print(test_data[test_data['Program Main Category Code'] == 'ABIR']['Program Sub Category Code'].value_counts())\n",
        "mode = test_data[test_data['Program Main Category Code'] == 'ABIR']['Program Sub Category Code'].mode()[0]\n",
        "test_data.loc[test_data['Program Main Category Code'] == 'ABIR', 'Program Sub Category Code'] = test_data[test_data['Program Main Category Code'] == 'ABIR']['Program Sub Category Code'].fillna(mode)\n"
      ]
    },
    {
      "cell_type": "code",
      "execution_count": 16,
      "id": "998eda08",
      "metadata": {
        "id": "998eda08"
      },
      "outputs": [],
      "source": [
        "#DTFH, QWLM no mode so i fill same value\n",
        "train_data.loc[train_data['Program Main Category Code'] == 'DTFH', 'Program Sub Category Code'] = train_data[train_data['Program Main Category Code'] == 'DTFH']['Program Sub Category Code'].fillna('DTFH')\n",
        "train_data.loc[train_data['Program Main Category Code'] == 'QWLM', 'Program Sub Category Code'] = train_data[train_data['Program Main Category Code'] == 'QWLM']['Program Sub Category Code'].fillna('QWLM')\n",
        "\n",
        "#=======================\n",
        "\n",
        "\n",
        "test_data.loc[test_data['Program Main Category Code'] == 'DTFH', 'Program Sub Category Code'] = test_data[test_data['Program Main Category Code'] == 'DTFH']['Program Sub Category Code'].fillna('DTFH')\n",
        "test_data.loc[test_data['Program Main Category Code'] == 'QWLM', 'Program Sub Category Code'] = test_data[test_data['Program Main Category Code'] == 'QWLM']['Program Sub Category Code'].fillna('QWLM')"
      ]
    },
    {
      "cell_type": "code",
      "execution_count": 17,
      "id": "f0a3b9f9",
      "metadata": {
        "id": "f0a3b9f9"
      },
      "outputs": [],
      "source": [
        "#train_data['Level of Education'].fillna(train_data['Level of Education'].mode()[0], inplace=True)"
      ]
    },
    {
      "cell_type": "code",
      "execution_count": 18,
      "id": "40d72a39",
      "metadata": {
        "id": "40d72a39"
      },
      "outputs": [],
      "source": [
        "# non_tech_zero = train_data[train_data['Non-technical'] == 1]\n",
        "# unique_education = non_tech_zero['Education Speaciality'].unique()\n",
        "# print(unique_education)"
      ]
    },
    {
      "cell_type": "code",
      "execution_count": 18,
      "id": "287b398f",
      "metadata": {
        "id": "287b398f"
      },
      "outputs": [],
      "source": []
    },
    {
      "cell_type": "code",
      "execution_count": 19,
      "id": "cef8e700",
      "metadata": {
        "id": "cef8e700"
      },
      "outputs": [],
      "source": [
        "tran = Translator()\n",
        "train_data['Education Speaciality'] = train_data['Education Speaciality'].apply(lambda x: tran.translate(x, 'English').result if isinstance(x,str) else x)\n",
        "train_data['Education Speaciality'] = train_data['Education Speaciality'].apply(lambda x: tran.translate(x, 'Arabic').result if isinstance(x,str) else x)\n",
        "\n",
        "#============================\n",
        "\n",
        "tran = Translator()\n",
        "test_data['Education Speaciality'] = test_data['Education Speaciality'].apply(lambda x: tran.translate(x, 'English').result if isinstance(x,str) else x)\n",
        "test_data['Education Speaciality'] = test_data['Education Speaciality'].apply(lambda x: tran.translate(x, 'Arabic').result if isinstance(x,str) else x)"
      ]
    },
    {
      "cell_type": "code",
      "execution_count": 20,
      "id": "5e5404fd",
      "metadata": {
        "id": "5e5404fd"
      },
      "outputs": [],
      "source": [
        "scince_majors = ['رياضيات','فيزياء','احصاء','كيمياء','Biology','احياء','Mathematical',\n",
        "                 'العلوم في الرياضيات','علوم تطبيقية','الجغرافيا','الأحياء','جغرافيا','اجتماعيات', 'الرياضيات',\n",
        "                 'مختبرات ', 'رياضيات','جيولوجيا','إحصاء']\n",
        "\n",
        "# for major in scince_majors:\n",
        "#     train_data.loc[train_data['Education Speaciality'] == major, 'College'] = train_data.loc[train_data['Education Speaciality'] == major, 'College'].fillna('العلوم الطبيعية والرياضيات والإحصاء')\n",
        "\n",
        "\n",
        "for i in range(len(train_data)):\n",
        "    major = str(train_data['Education Speaciality'].iloc[i]).lower()\n",
        "    if any(word in major for word in scince_majors):\n",
        "        train_data['College'].iloc[i] = 'العلوم الطبيعية والرياضيات والإحصاء'\n",
        "\n",
        "\n",
        "#======================================\n",
        "\n",
        "for i in range(len(test_data)):\n",
        "    major = str(test_data['Education Speaciality'].iloc[i]).lower()\n",
        "    if any(word in major for word in scince_majors):\n",
        "        test_data['College'].iloc[i] = 'العلوم الطبيعية والرياضيات والإحصاء'"
      ]
    },
    {
      "cell_type": "code",
      "execution_count": 21,
      "id": "9b88fa88",
      "metadata": {
        "id": "9b88fa88"
      },
      "outputs": [],
      "source": [
        "Administration_majors = ['نظم المعلومات الإدارية','إدارة الأعمال','الأنظمة','العلوم الإدارية','المحاماة','الموارد البشرية','التمويل والاستثمار','الشريعة','المحاسبة','التسويق',\n",
        "                        'تسويق ومبيعات','ادارة اعمال','دراسات وقضايا معاصرة', 'حقوق','المالية', 'mba', 'business','سكرتير',\n",
        "                         'human', 'موارد', 'الموارد', 'الشريعة', 'شريعة', 'الأعمال', 'إدارة','الاداره', 'finance', 'PMP','القرارات',\n",
        "                         'نظم المعلومات الإدارية', 'المحاماة', 'قانون', 'القانون', 'بشرية', 'البشرية', 'اعمال',\n",
        "                         'اعمال', 'الاستشارات', 'إعمال', 'الإدارية', 'emba', 'accounting','تسويق', 'ماليه','مالية']\n",
        "\n",
        "# for major in scince_majors:\n",
        "#     train_data.loc[train_data['Education Speaciality'] == major, 'College'] = train_data.loc[train_data['Education Speaciality'] == major, 'College'].fillna('الأعمال والإدارة والقانون')\n",
        "# train_data[train_data['College']== 'الأعمال والإدارة والقانون']['Education Speaciality'].value_counts()\n",
        "\n",
        "\n",
        "for i in range(len(train_data)):\n",
        "    major = str(train_data['Education Speaciality'].iloc[i]).lower()\n",
        "    if any(word in major for word in Administration_majors):\n",
        "        train_data['College'].iloc[i] = 'الأعمال والإدارة والقانون'\n",
        "\n",
        "#==========================\n",
        "\n",
        "for i in range(len(test_data)):\n",
        "    major = str(test_data['Education Speaciality'].iloc[i]).lower()\n",
        "    if any(word in major for word in Administration_majors):\n",
        "        test_data['College'].iloc[i] = 'الأعمال والإدارة والقانون'\n",
        ""
      ]
    },
    {
      "cell_type": "code",
      "execution_count": 22,
      "id": "UxoGqesl7_rY",
      "metadata": {
        "id": "UxoGqesl7_rY"
      },
      "outputs": [],
      "source": [
        "Eng_majors = ['electrical engineer', 'ميكانيكية', 'صيانة الالات الصناعية',\n",
        "                         'هندسة طيران وفضاء', 'هياكل ومحركات', 'الصناعية','كهربائية',\n",
        "                         'هندسه كهربائية', 'هندسة كهربائي', 'كهربائية ', 'civil and environmental engineering',\n",
        "                         'صناعية', 'الميكانيكية','الاطراف الصناعية والأجهزة المساعدة', 'آلات دقيقة وتحكم',\n",
        "                         'انشاءات', 'معماريه', 'معمارية', 'تصميم','product','هندسة','الهندسة','engineering'\n",
        "                         ]\n",
        "\n",
        "# for major in scince_majors:\n",
        "#     train_data.loc[train_data['Education Speaciality'] == major, 'College'] = train_data.loc[train_data['Education Speaciality'] == major, 'College'].fillna('الهندسة والتصنيع والبناء')\n",
        "\n",
        "# train_data[train_data['College']== 'الهندسة والتصنيع والبناء']['Education Speaciality'].value_counts()\n",
        "\n",
        "\n",
        "for i in range(len(train_data)):\n",
        "    major = str(train_data['Education Speaciality'].iloc[i]).lower()\n",
        "    if any(word in major for word in Eng_majors):\n",
        "        train_data['College'].iloc[i] = 'الهندسة والتصنيع والبناء'\n",
        ""
      ]
    },
    {
      "cell_type": "code",
      "execution_count": 23,
      "id": "t7s0kMItYg8V",
      "metadata": {
        "id": "t7s0kMItYg8V"
      },
      "outputs": [],
      "source": [
        "Arts_majors = ['Art','انجليزي','إنجليزي','الإسلامية','الإسلاميه', 'انجليزيه', 'لغات',\n",
        "               'اللغة', 'العربية', 'اللغات', 'والترجمة', 'الجرافيكس', 'التاريخ',\n",
        "               'تاريخ', 'الإذاعة', 'الأدب', 'الإسلامية', 'العقيدة', 'الأدب', 'ادب',\n",
        "               'الحسبة','اسلامية', 'الإسلامية', 'translation','فنون', 'اسلاميه','دين' ,'لغه','لغة']\n",
        "\n",
        "# for major in scince_majors:\n",
        "#     train_data.loc[train_data['Education Speaciality'] == major, 'College'] = train_data.loc[train_data['Education Speaciality'] == major, 'College'].fillna('الفنون والعلوم الإنسانية')\n",
        "\n",
        "for i in range(len(train_data)):\n",
        "    major = str(train_data['Education Speaciality'].iloc[i]).lower()\n",
        "    if any(word in major for word in Arts_majors):\n",
        "        train_data['College'].iloc[i] = 'الفنون والعلوم الإنسانية'\n",
        "\n",
        "\n",
        "#===================================\n",
        "\n",
        "for i in range(len(test_data)):\n",
        "    major = str(test_data['Education Speaciality'].iloc[i]).lower()\n",
        "    if any(word in major for word in Arts_majors):\n",
        "        test_data['College'].iloc[i] = 'الفنون والعلوم الإنسانية'\n",
        "\n",
        "#train_data[train_data['College']== 'الفنون والعلوم الإنسانية']['Education Speaciality'].value_counts()"
      ]
    },
    {
      "cell_type": "code",
      "execution_count": 24,
      "id": "l-5szisBkLW0",
      "metadata": {
        "id": "l-5szisBkLW0"
      },
      "outputs": [],
      "source": [
        "social_science_majors = ['الإعلام', 'الاجتماع', 'الجغرافيا البشرية', 'اقتصاد',\n",
        "                         'إقتصاد', 'النفس', 'اجتماع','الإقتصاد', 'الإجتماع','relations',\n",
        "                         'علاقات', 'السياحة','والصحافة'\n",
        "                         ]\n",
        "\n",
        "# for major in scince_majors:\n",
        "#     train_data.loc[train_data['Education Speaciality'] == major, 'College'] = train_data.loc[train_data['Education Speaciality'] == major, 'College'].fillna('العلوم الاجتماعية والصحافة والإعلام')\n",
        "\n",
        "for i in range(len(train_data)):\n",
        "    major = str(train_data['Education Speaciality'].iloc[i]).lower()\n",
        "    if any(word in major for word in social_science_majors):\n",
        "        train_data['College'].iloc[i] = 'العلوم الاجتماعية والصحافة والإعلام'\n",
        "\n",
        "\n",
        "#=========================\n",
        "\n",
        "for i in range(len(test_data)):\n",
        "    major = str(test_data['Education Speaciality'].iloc[i]).lower()\n",
        "    if any(word in major for word in social_science_majors):\n",
        "        test_data['College'].iloc[i] = 'العلوم الاجتماعية والصحافة والإعلام'\n",
        "\n",
        "#train_data[train_data['College']== 'العلوم الاجتماعية والصحافة والإعلام']['Education Speaciality'].value_counts()"
      ]
    },
    {
      "cell_type": "code",
      "execution_count": 25,
      "id": "bH9ZV3O7q8hp",
      "metadata": {
        "id": "bH9ZV3O7q8hp"
      },
      "outputs": [],
      "source": [
        "Edu_majors = ['التدريس', 'التربية', 'التربيه', 'الإعاقة', 'التربيه',\n",
        "              'الإعاقة', 'التربية الإسلامية', 'مناهج', 'تربية', 'التربيه', 'رياض اطفال',\n",
        "              'أطفال', 'تربيه', 'لغويات','دراسات']\n",
        "\n",
        "#\n",
        "\n",
        "# for major in scince_majors:\n",
        "#     train_data.loc[train_data['Education Speaciality'] == major, 'College'] = train_data.loc[train_data['Education Speaciality'] == major, 'College'].fillna('التعليم')\n",
        "\n",
        "for i in range(len(train_data)):\n",
        "    major = str(train_data['Education Speaciality'].iloc[i]).lower()\n",
        "    if any(word in major for word in Edu_majors):\n",
        "        train_data['College'].iloc[i] = 'التعليم'\n",
        "\n",
        "#===============\n",
        "\n",
        "\n",
        "\n",
        "for i in range(len(test_data)):\n",
        "    major = str(test_data['Education Speaciality'].iloc[i]).lower()\n",
        "    if any(word in major for word in Edu_majors):\n",
        "        test_data['College'].iloc[i] = 'التعليم'\n",
        "\n",
        "\n",
        "# train_data[train_data['College']== 'التعليم']['Education Speaciality'].value_counts()"
      ]
    },
    {
      "cell_type": "code",
      "execution_count": 26,
      "id": "dccacdca",
      "metadata": {
        "id": "dccacdca",
        "scrolled": true
      },
      "outputs": [],
      "source": [
        "Technical_majors = ['حاسب','معلومات','تقنية', 'بيانات', 'cis', 'computer', 'اتصالات','it', 'شبكات','software','رقمي','network','mis','مواقع','cs',\n",
        "            'برمجيات', 'امن سيبراني','اكترونيات', 'سيبراني', 'لكترونيات','ذكاء','data', 'information', 'technology','communication','حوسب','حاسب'\n",
        "            ,'كمبيوتر','برمجه','gis','computing','conputer', 'لكتروني','artificial','artifical intelligence','صطناعي','سبراني','تكنولوجيا','ويب','وسائط',\n",
        "            'برمجة','artifical','web','system','iot','programming','تطوير','multimedia', 'الحاسب', 'الحاسبات', 'تقنيه',\n",
        "                   'is', 'نظم', 'برمجة','برمجه','السيبراني','سيبراني','cyber','networks','security','تقنية','المعلومات','الاتصالات','والاتصالات','الحاسوب'\n",
        "                   ,'البيانات','it','الشبكات','سبراني','الاصطناعي','cs','البرمجه','البرمجة','كومبيوتر','الكمبيوتر','حاسوب']\n",
        "\n",
        "for i in range(len(train_data)):\n",
        "    major = str(train_data['Education Speaciality'].iloc[i]).lower()\n",
        "    if any(word in major for word in Technical_majors):\n",
        "        #train_data['Education Speaciality'].iloc[i] = 'Technical'\n",
        "        train_data['College'].iloc[i] = 'تكنولوجيا الاتصالات والمعلومات'\n",
        "\n",
        "    else:\n",
        "        #train_data['Education Speaciality'].iloc[i] = 'Non-technical'\n",
        "        pass\n",
        "\n",
        "\n",
        "#========================\n",
        "\n",
        "for i in range(len(test_data)):\n",
        "    major = str(test_data['Education Speaciality'].iloc[i]).lower()\n",
        "    if any(word in major for word in Technical_majors):\n",
        "        #test_data['Education Speaciality'].iloc[i] = 'Technical'\n",
        "        test_data['College'].iloc[i] = 'تكنولوجيا الاتصالات والمعلومات'\n",
        "\n",
        "    else:\n",
        "        #test_data['Education Speaciality'].iloc[i] = 'Non-technical'\n",
        "        pass\n"
      ]
    },
    {
      "cell_type": "code",
      "execution_count": 27,
      "id": "1efb187d",
      "metadata": {
        "id": "1efb187d"
      },
      "outputs": [],
      "source": [
        "#train_data.loc[train_data['Education Speaciality'] == 'Technical', 'College'] = train_data.loc[train_data['Education Speaciality'] == 'Technical', 'College'].fillna('تكنولوجيا الاتصالات والمعلومات')"
      ]
    },
    {
      "cell_type": "code",
      "execution_count": 28,
      "id": "Ylor3wxQCMBg",
      "metadata": {
        "colab": {
          "base_uri": "https://localhost:8080/"
        },
        "id": "Ylor3wxQCMBg",
        "outputId": "f10adc79-a8d3-4f64-9a70-e29da2274291"
      },
      "outputs": [
        {
          "output_type": "execute_result",
          "data": {
            "text/plain": [
              "Student ID                           0\n",
              "Age                                 86\n",
              "Gender                               0\n",
              "Home Region                          0\n",
              "Home City                            0\n",
              "Program ID                           0\n",
              "Program Main Category Code           0\n",
              "Program Sub Category Code            0\n",
              "Technology Type                   2958\n",
              "Program Skill Level               1645\n",
              "Program Presentation Method          0\n",
              "Program Days                         0\n",
              "Completed Degree                     0\n",
              "Level of Education                  21\n",
              "Education Speaciality              271\n",
              "College                            474\n",
              "University Degree Score              0\n",
              "University Degree Score System       0\n",
              "Employment Status                  556\n",
              "Job Type                          4534\n",
              "Still Working                     4534\n",
              "Y                                    0\n",
              "Start_year                           0\n",
              "Start_month                          0\n",
              "Start_day                            0\n",
              "End_year                             0\n",
              "End_month                            0\n",
              "End_day                              0\n",
              "dtype: int64"
            ]
          },
          "metadata": {},
          "execution_count": 28
        }
      ],
      "source": [
        "train_data.isnull().sum()"
      ]
    },
    {
      "cell_type": "code",
      "execution_count": 29,
      "id": "1cea108a",
      "metadata": {
        "id": "1cea108a"
      },
      "outputs": [],
      "source": [
        "for id in train_data['Program ID'].unique():\n",
        "    #print(len(train_data[train_data['Program ID'] == id]['Program Skill Level'].mode()))\n",
        "    #print(train_data[train_data['Program ID'] == id]['Program Skill Level'].mode())\n",
        "    if len(train_data[train_data['Program ID'] == id]['Program Skill Level'].mode()) == 0:\n",
        "        train_data.loc[train_data['Program ID'] == id, 'Program Skill Level'] = train_data.loc[train_data['Program ID'] == id, 'Program Skill Level'].fillna(train_data['Program Skill Level'].mode()[0])\n",
        "\n",
        "    else:\n",
        "        train_data.loc[train_data['Program ID'] == id, 'Program Skill Level'] = train_data.loc[train_data['Program ID'] == id, 'Program Skill Level'].fillna(train_data[train_data['Program ID'] == id]['Program Skill Level'].mode()[0])\n",
        "\n",
        "#=====================\n",
        "\n",
        "for id in test_data['Program ID'].unique():\n",
        "    #print(len(test_data[test_data['Program ID'] == id]['Program Skill Level'].mode()))\n",
        "    #print(test_data[test_data['Program ID'] == id]['Program Skill Level'].mode())\n",
        "    if len(test_data[test_data['Program ID'] == id]['Program Skill Level'].mode()) == 0:\n",
        "        test_data.loc[test_data['Program ID'] == id, 'Program Skill Level'] = test_data.loc[test_data['Program ID'] == id, 'Program Skill Level'].fillna(test_data['Program Skill Level'].mode()[0])\n",
        "\n",
        "    else:\n",
        "        test_data.loc[test_data['Program ID'] == id, 'Program Skill Level'] = test_data.loc[test_data['Program ID'] == id, 'Program Skill Level'].fillna(test_data[test_data['Program ID'] == id]['Program Skill Level'].mode()[0])\n",
        "\n"
      ]
    },
    {
      "cell_type": "code",
      "execution_count": 30,
      "id": "39d181ec",
      "metadata": {
        "id": "39d181ec"
      },
      "outputs": [],
      "source": [
        "for id in train_data['Program ID'].unique():\n",
        "    if len(train_data[train_data['Program ID'] == id]['Technology Type'].mode()) == 0:\n",
        "        train_data.loc[train_data['Program ID'] == id, 'Technology Type'] = train_data.loc[train_data['Program ID'] == id, 'Technology Type'].fillna(train_data['Technology Type'].mode()[0])\n",
        "\n",
        "    else:\n",
        "        train_data.loc[train_data['Program ID'] == id, 'Technology Type'] = train_data.loc[train_data['Program ID'] == id, 'Technology Type'].fillna(train_data[train_data['Program ID'] == id]['Technology Type'].mode()[0])\n",
        "\n",
        "\n",
        "#=======================\n",
        "\n",
        "for id in test_data['Program ID'].unique():\n",
        "    if len(test_data[test_data['Program ID'] == id]['Technology Type'].mode()) == 0:\n",
        "        test_data.loc[test_data['Program ID'] == id, 'Technology Type'] = test_data.loc[test_data['Program ID'] == id, 'Technology Type'].fillna(test_data['Technology Type'].mode()[0])\n",
        "\n",
        "    else:\n",
        "        test_data.loc[test_data['Program ID'] == id, 'Technology Type'] = test_data.loc[test_data['Program ID'] == id, 'Technology Type'].fillna(test_data[test_data['Program ID'] == id]['Technology Type'].mode()[0])\n"
      ]
    },
    {
      "cell_type": "code",
      "execution_count": 31,
      "id": "d7229754",
      "metadata": {
        "id": "d7229754"
      },
      "outputs": [],
      "source": [
        "train_data.loc[train_data['Employment Status'] == 'موظف','Still Working'] = train_data.loc[train_data['Employment Status'] == 'موظف','Still Working'].fillna('Yes')\n",
        "train_data.loc[train_data['Employment Status'] == 'غير موظف','Still Working'] = train_data.loc[train_data['Employment Status'] == 'غير موظف','Still Working'].fillna('No')\n",
        "train_data.loc[train_data['Employment Status'] == 'عمل حر','Still Working'] = train_data.loc[train_data['Employment Status'] == 'عمل حر','Still Working'].fillna('Yes')\n",
        "train_data.loc[train_data['Employment Status'] == 'طالب','Still Working'] = train_data.loc[train_data['Employment Status'] == 'طالب','Still Working'].fillna('No')\n",
        "train_data.loc[train_data['Employment Status'] == 'خريج','Still Working'] = train_data.loc[train_data['Employment Status'] == 'خريج','Still Working'].fillna('No')\n",
        "\n",
        "#============================\n",
        "\n",
        "test_data.loc[test_data['Employment Status'] == 'موظف','Still Working'] = test_data.loc[test_data['Employment Status'] == 'موظف','Still Working'].fillna('Yes')\n",
        "test_data.loc[test_data['Employment Status'] == 'غير موظف','Still Working'] = test_data.loc[test_data['Employment Status'] == 'غير موظف','Still Working'].fillna('No')\n",
        "test_data.loc[test_data['Employment Status'] == 'عمل حر','Still Working'] = test_data.loc[test_data['Employment Status'] == 'عمل حر','Still Working'].fillna('Yes')\n",
        "test_data.loc[test_data['Employment Status'] == 'طالب','Still Working'] = test_data.loc[test_data['Employment Status'] == 'طالب','Still Working'].fillna('No')\n",
        "test_data.loc[test_data['Employment Status'] == 'خريج','Still Working'] = test_data.loc[test_data['Employment Status'] == 'خريج','Still Working'].fillna('No')\n"
      ]
    },
    {
      "cell_type": "code",
      "execution_count": 32,
      "id": "9100e919",
      "metadata": {
        "id": "9100e919"
      },
      "outputs": [],
      "source": [
        "train_data[train_data['Level of Education'] == 'ثانوي'].isnull().sum()\n",
        "train_data.loc[train_data['Level of Education'] == 'ثانوي','Education Speaciality'] = train_data.loc[train_data['Level of Education'] == 'ثانوي','Education Speaciality'].fillna('غير متخصص')\n",
        "train_data.loc[train_data['Level of Education'] == 'ثانوي','College'] = train_data.loc[train_data['Level of Education'] == 'ثانوي','College'].fillna('لايوجد')\n",
        "train_data.loc[train_data['Level of Education'] == 'ثانوي','Employment Status'] = train_data.loc[train_data['Level of Education'] == 'ثانوي','Employment Status'].fillna('طالب')\n",
        "train_data.loc[train_data['Level of Education'] == 'ثانوي','Still Working'] = train_data.loc[train_data['Level of Education'] == 'ثانوي','Still Working'].fillna('No')\n",
        "train_data.loc[train_data['Level of Education'] == 'ثانوي','Job Type'] = train_data.loc[train_data['Level of Education'] == 'ثانوي','Job Type'].fillna('دوام كامل')\n",
        "\n",
        "\n",
        "#==========================\n",
        "\n",
        "\n",
        "test_data.loc[test_data['Employment Status'] == 'موظف','Still Working'] = test_data.loc[test_data['Employment Status'] == 'موظف','Still Working'].fillna('Yes')\n",
        "test_data.loc[test_data['Employment Status'] == 'غير موظف','Still Working'] = test_data.loc[test_data['Employment Status'] == 'غير موظف','Still Working'].fillna('No')\n",
        "test_data.loc[test_data['Employment Status'] == 'عمل حر','Still Working'] = test_data.loc[test_data['Employment Status'] == 'عمل حر','Still Working'].fillna('Yes')\n",
        "test_data.loc[test_data['Employment Status'] == 'طالب','Still Working'] = test_data.loc[test_data['Employment Status'] == 'طالب','Still Working'].fillna('No')\n",
        "test_data.loc[test_data['Employment Status'] == 'خريج','Still Working'] = test_data.loc[test_data['Employment Status'] == 'خريج','Still Working'].fillna('No')\n"
      ]
    },
    {
      "cell_type": "code",
      "execution_count": 33,
      "id": "a8ff730e",
      "metadata": {
        "id": "a8ff730e"
      },
      "outputs": [],
      "source": [
        "#train_data[train_data['College'].isnull()]['Education Speaciality'].unique()"
      ]
    },
    {
      "cell_type": "code",
      "execution_count": 34,
      "id": "8407869e",
      "metadata": {
        "id": "8407869e"
      },
      "outputs": [],
      "source": [
        "#train_data.dropna(subset = ['Level of Education'], inplace = True)"
      ]
    },
    {
      "cell_type": "code",
      "execution_count": 35,
      "id": "40cc6315",
      "metadata": {
        "id": "40cc6315"
      },
      "outputs": [],
      "source": [
        "train_data.loc[train_data['Completed Degree'] == 'نعم','Employment Status'] = train_data.loc[train_data['Completed Degree'] == 'نعم','Employment Status'].fillna('موظف')\n",
        "train_data.loc[train_data['Completed Degree'] == 'لا','Employment Status'] = train_data.loc[train_data['Completed Degree'] == 'لا','Employment Status'].fillna('طالب')\n",
        "\n",
        "#==========================\n",
        "\n",
        "test_data.loc[test_data['Completed Degree'] == 'نعم','Employment Status'] = test_data.loc[test_data['Completed Degree'] == 'نعم','Employment Status'].fillna('موظف')\n",
        "test_data.loc[test_data['Completed Degree'] == 'لا','Employment Status'] = test_data.loc[test_data['Completed Degree'] == 'لا','Employment Status'].fillna('طالب')\n"
      ]
    },
    {
      "cell_type": "code",
      "execution_count": 36,
      "id": "5dcbc226",
      "metadata": {
        "id": "5dcbc226"
      },
      "outputs": [],
      "source": [
        "#train_data['Employment Status'].value_counts()"
      ]
    },
    {
      "cell_type": "code",
      "execution_count": 37,
      "id": "05e5cfd2",
      "metadata": {
        "id": "05e5cfd2"
      },
      "outputs": [],
      "source": [
        "train_data.loc[train_data['Employment Status'] == 'موظف','Still Working'] = train_data.loc[train_data['Employment Status'] == 'موظف','Still Working'].fillna('Yes')\n",
        "train_data.loc[(train_data['Employment Status'] == 'غير موظف') | (train_data['Employment Status'] == 'طالب') | (train_data['Employment Status'] == 'عمل حر'),'Still Working'] =train_data.loc[(train_data['Employment Status'] == 'غير موظف') | (train_data['Employment Status'] == 'طالب') | (train_data['Employment Status'] == 'عمل حر'),'Still Working'].fillna('No')\n",
        "\n",
        "#================================\n",
        "\n",
        "test_data.loc[test_data['Employment Status'] == 'موظف','Still Working'] = test_data.loc[test_data['Employment Status'] == 'موظف','Still Working'].fillna('Yes')\n",
        "test_data.loc[(test_data['Employment Status'] == 'غير موظف') | (test_data['Employment Status'] == 'طالب') | (test_data['Employment Status'] == 'عمل حر'),'Still Working'] =test_data.loc[(test_data['Employment Status'] == 'غير موظف') | (test_data['Employment Status'] == 'طالب') | (test_data['Employment Status'] == 'عمل حر'),'Still Working'].fillna('No')"
      ]
    },
    {
      "cell_type": "code",
      "execution_count": 38,
      "id": "88777811",
      "metadata": {
        "id": "88777811"
      },
      "outputs": [],
      "source": [
        "#train_data['Job Type'].value_counts()"
      ]
    },
    {
      "cell_type": "code",
      "execution_count": 39,
      "id": "e9742831",
      "metadata": {
        "id": "e9742831"
      },
      "outputs": [],
      "source": [
        "train_data.loc[(train_data['Still Working'] == 'Yes') | (train_data['Employment Status'] == 'طالب') ,'Job Type'] = train_data.loc[(train_data['Still Working'] == 'Yes') | (train_data['Employment Status'] == 'طالب') ,'Job Type'].fillna('دوام كامل')\n",
        "\n",
        "#========================\n",
        "\n",
        "test_data.loc[(test_data['Still Working'] == 'Yes') | (test_data['Employment Status'] == 'طالب') ,'Job Type'] = test_data.loc[(test_data['Still Working'] == 'Yes') | (test_data['Employment Status'] == 'طالب') ,'Job Type'].fillna('دوام كامل')\n"
      ]
    },
    {
      "cell_type": "code",
      "execution_count": 40,
      "id": "7a3b115d",
      "metadata": {
        "id": "7a3b115d"
      },
      "outputs": [],
      "source": [
        "#train_data[train_data['Job Type'].isnull()]"
      ]
    },
    {
      "cell_type": "code",
      "execution_count": 41,
      "id": "9ea8f702",
      "metadata": {
        "id": "9ea8f702"
      },
      "outputs": [],
      "source": [
        "#train_data.loc[(train_data['Still Working'] == 'Yes') ,'Job Type']"
      ]
    },
    {
      "cell_type": "code",
      "execution_count": 42,
      "id": "ff453f97",
      "metadata": {
        "id": "ff453f97"
      },
      "outputs": [],
      "source": [
        "#train_data['Level of Education'].value_counts()"
      ]
    },
    {
      "cell_type": "code",
      "execution_count": 43,
      "id": "e4d82cb6",
      "metadata": {
        "scrolled": true,
        "id": "e4d82cb6"
      },
      "outputs": [],
      "source": [
        "#train_data.isnull().sum()"
      ]
    },
    {
      "cell_type": "code",
      "execution_count": 44,
      "id": "2b2ff616",
      "metadata": {
        "id": "2b2ff616"
      },
      "outputs": [],
      "source": [
        "#train_data['Education Speaciality'].unique()"
      ]
    },
    {
      "cell_type": "code",
      "execution_count": 45,
      "id": "d4320db0",
      "metadata": {
        "id": "d4320db0"
      },
      "outputs": [],
      "source": [
        "train_data.loc[(train_data['Education Speaciality']== 'غير متخصص'),'College'] = train_data.loc[(train_data['Education Speaciality']== 'غير متخصص'),'College'].fillna('غير متخصص')\n",
        "#| (train_data['Level of Education'] == 'ثانوي')\n",
        "\n",
        "#==============================\n",
        "\n",
        "test_data.loc[(test_data['Education Speaciality']== 'غير متخصص'),'College'] = test_data.loc[(test_data['Education Speaciality']== 'غير متخصص'),'College'].fillna('غير متخصص')\n",
        "\n"
      ]
    },
    {
      "cell_type": "code",
      "execution_count": 46,
      "id": "de80eff6",
      "metadata": {
        "id": "de80eff6"
      },
      "outputs": [],
      "source": [
        "#train_data['Level of Education'].value_counts()"
      ]
    },
    {
      "cell_type": "code",
      "execution_count": 47,
      "id": "6e10fbd1",
      "metadata": {
        "id": "6e10fbd1"
      },
      "outputs": [],
      "source": [
        "train_data.dropna(subset = ['College','Age'], inplace = True)\n",
        "\n",
        "#==========================\n",
        "\n",
        "test_data.dropna(subset = ['College','Age'], inplace = True)"
      ]
    },
    {
      "cell_type": "code",
      "execution_count": 48,
      "id": "215e58dc",
      "metadata": {
        "id": "215e58dc"
      },
      "outputs": [],
      "source": [
        "# train_data.isnull().sum()\n",
        "# test_data.isnull().sum()"
      ]
    },
    {
      "cell_type": "code",
      "execution_count": 49,
      "id": "ad0590a3",
      "metadata": {
        "id": "ad0590a3"
      },
      "outputs": [],
      "source": [
        "train_data.loc[(train_data['Still Working'] == 'No'),'Job Type'] = train_data.loc[(train_data['Still Working'] == 'No'),'Job Type'].fillna('لا يعمل')\n",
        "\n",
        "#===================\n",
        "\n",
        "test_data.loc[(test_data['Still Working'] == 'No'),'Job Type'] = test_data.loc[(test_data['Still Working'] == 'No'),'Job Type'].fillna('لا يعمل')"
      ]
    },
    {
      "cell_type": "code",
      "execution_count": 50,
      "id": "2f0fe561",
      "metadata": {
        "id": "2f0fe561"
      },
      "outputs": [],
      "source": [
        "#train_data.info()"
      ]
    },
    {
      "cell_type": "code",
      "execution_count": 51,
      "id": "048f8df7",
      "metadata": {
        "id": "048f8df7"
      },
      "outputs": [],
      "source": [
        "Technical_majors = ['حاسب','معلومات','تقنية', 'بيانات', 'cis', 'computer', 'اتصالات','it', 'شبكات','software','رقمي','network','mis','مواقع','cs',\n",
        "            'برمجيات', 'امن سيبراني','اكترونيات', 'سيبراني', 'لكترونيات','ذكاء','data', 'information', 'technology','communication','حوسب','حاسب'\n",
        "            ,'كمبيوتر','برمجه','gis','computing','conputer', 'لكتروني','artificial','artifical intelligence','صطناعي','سبراني','تكنولوجيا','ويب','وسائط',\n",
        "            'برمجة','artifical','web','system','iot','programming','تطوير','multimedia', 'الحاسب', 'الحاسبات', 'تقنيه',\n",
        "                   'is', 'نظم', 'برمجة','برمجه','السيبراني','سيبراني','cyber','networks','security','تقنية','المعلومات','الاتصالات','والاتصالات','الحاسوب'\n",
        "                   ,'البيانات','it','الشبكات','سبراني','الاصطناعي','cs','البرمجه','البرمجة','كومبيوتر','الكمبيوتر','حاسوب']\n",
        "\n",
        "for i in range(len(train_data)):\n",
        "    major = str(train_data['Education Speaciality'].iloc[i]).lower()\n",
        "    if any(word in major for word in Technical_majors):\n",
        "        train_data['Education Speaciality'].iloc[i] = 'Technical'\n",
        "    else:\n",
        "        train_data['Education Speaciality'].iloc[i] = 'Non-technical'\n",
        "        pass\n",
        "\n",
        "#===============================\n",
        "\n",
        "for i in range(len(test_data)):\n",
        "    major = str(test_data['Education Speaciality'].iloc[i]).lower()\n",
        "    if any(word in major for word in Technical_majors):\n",
        "        test_data['Education Speaciality'].iloc[i] = 'Technical'\n",
        "    else:\n",
        "        test_data['Education Speaciality'].iloc[i] = 'Non-technical'\n",
        "        pass\n"
      ]
    },
    {
      "cell_type": "code",
      "execution_count": 52,
      "id": "8b9a3799",
      "metadata": {
        "id": "8b9a3799"
      },
      "outputs": [],
      "source": [
        "train_data['Age'] = train_data['Age'].astype(int)\n",
        "train_data['University Degree Score System'] = train_data['University Degree Score System'].astype(int)\n",
        "for column in train_data.select_dtypes('object').columns.drop(['Student ID','Program ID']):\n",
        "    train_data[column] = train_data[column].astype('category')\n",
        "\n",
        "#======================\n",
        "\n",
        "test_data['Age'] = test_data['Age'].astype(int)\n",
        "test_data['University Degree Score System'] = test_data['University Degree Score System'].astype(int)\n",
        "for column in test_data.select_dtypes('object').columns.drop(['Student ID','Program ID']):\n",
        "    test_data[column] = test_data[column].astype('category')\n"
      ]
    },
    {
      "cell_type": "code",
      "execution_count": 53,
      "id": "d72e5d95",
      "metadata": {
        "id": "d72e5d95"
      },
      "outputs": [],
      "source": [
        "numeric = train_data.select_dtypes('number').columns\n",
        "numeric = numeric.drop('Y')\n",
        "cat = train_data.select_dtypes('category').columns\n",
        "subCat = ['Program Skill Level', 'Home Region' , 'Home City' , 'Program Main Category Code', 'Program Sub Category Code' , 'College']"
      ]
    },
    {
      "cell_type": "code",
      "execution_count": 54,
      "id": "c228d7a9",
      "metadata": {
        "id": "c228d7a9"
      },
      "outputs": [],
      "source": [
        "scaler = MinMaxScaler()\n",
        "train_data[numeric] = scaler.fit_transform(train_data[numeric])\n",
        "\n",
        "#=======================\n",
        "\n",
        "test_data[numeric] = scaler.fit_transform(test_data[numeric])"
      ]
    },
    {
      "cell_type": "code",
      "execution_count": 55,
      "id": "1a9e6d61",
      "metadata": {
        "id": "1a9e6d61"
      },
      "outputs": [],
      "source": [
        "One = OneHotEncoder()\n",
        "Ordinal = OrdinalEncoder()\n",
        "col = cat.drop(subCat)\n",
        "\n",
        "encoded_features_train = One.fit_transform(train_data[col])\n",
        "train_data[subCat] = Ordinal.fit_transform(train_data[subCat])\n",
        "\n",
        "#==================================\n",
        "\n",
        "encoded_features_test = One.fit_transform(test_data[col])\n",
        "test_data[subCat] = Ordinal.fit_transform(test_data[subCat])\n"
      ]
    },
    {
      "cell_type": "code",
      "execution_count": 56,
      "id": "0ff6d9cd",
      "metadata": {
        "colab": {
          "base_uri": "https://localhost:8080/"
        },
        "id": "0ff6d9cd",
        "outputId": "23d9b83d-8e10-4dfb-9b27-0ef6972a7ff7"
      },
      "outputs": [
        {
          "output_type": "stream",
          "name": "stdout",
          "text": [
            "(6214, 29)\n",
            "(742, 29)\n"
          ]
        }
      ],
      "source": [
        "print(encoded_features_train.shape)\n",
        "print(encoded_features_test.shape)"
      ]
    },
    {
      "cell_type": "code",
      "execution_count": 57,
      "id": "ee18668e",
      "metadata": {
        "id": "ee18668e"
      },
      "outputs": [],
      "source": [
        "encoded_train = pd.DataFrame(encoded_features_train.toarray(), columns=One.get_feature_names_out(col), index=train_data.index)\n",
        "\n",
        "#===========================\n",
        "\n",
        "encoded_test = pd.DataFrame(encoded_features_test.toarray(), columns=One.get_feature_names_out(col), index=test_data.index)"
      ]
    },
    {
      "cell_type": "code",
      "execution_count": 58,
      "id": "d364c3ed",
      "metadata": {
        "id": "d364c3ed"
      },
      "outputs": [],
      "source": [
        "train_data_encoded = pd.concat([train_data.drop(columns=col), encoded_train], axis=1)\n",
        "#=======================\n",
        "test_data_encoded = pd.concat([test_data.drop(columns=col), encoded_test], axis=1)\n"
      ]
    },
    {
      "cell_type": "code",
      "execution_count": 59,
      "id": "7f367ac7",
      "metadata": {
        "id": "7f367ac7"
      },
      "outputs": [],
      "source": [
        "train_data_encoded.drop(columns = ['Student ID','Program ID'],inplace =True)\n",
        "#==============================\n",
        "test_data_encoded.drop(columns = ['Student ID','Program ID'],inplace =True)"
      ]
    },
    {
      "cell_type": "code",
      "execution_count": 60,
      "id": "81d5e29a",
      "metadata": {
        "colab": {
          "base_uri": "https://localhost:8080/"
        },
        "id": "81d5e29a",
        "outputId": "48832e56-aa0f-4974-d995-f1c32120868a"
      },
      "outputs": [
        {
          "output_type": "execute_result",
          "data": {
            "text/plain": [
              "Student ID                        0\n",
              "Age                               0\n",
              "Gender                            0\n",
              "Home Region                       0\n",
              "Home City                         0\n",
              "Program ID                        0\n",
              "Program Main Category Code        0\n",
              "Program Sub Category Code         0\n",
              "Technology Type                   0\n",
              "Program Skill Level               0\n",
              "Program Presentation Method       0\n",
              "Program Days                      0\n",
              "Completed Degree                  0\n",
              "Level of Education                0\n",
              "Education Speaciality             0\n",
              "College                           0\n",
              "University Degree Score           0\n",
              "University Degree Score System    0\n",
              "Employment Status                 0\n",
              "Job Type                          0\n",
              "Still Working                     0\n",
              "Y                                 0\n",
              "Start_year                        0\n",
              "Start_month                       0\n",
              "Start_day                         0\n",
              "End_year                          0\n",
              "End_month                         0\n",
              "End_day                           0\n",
              "dtype: int64"
            ]
          },
          "metadata": {},
          "execution_count": 60
        }
      ],
      "source": [
        "train_data.isnull().sum()"
      ]
    },
    {
      "cell_type": "code",
      "execution_count": 61,
      "id": "2375fd62",
      "metadata": {
        "colab": {
          "base_uri": "https://localhost:8080/"
        },
        "id": "2375fd62",
        "outputId": "b775894b-d1e3-4e11-8824-0f783b146a93"
      },
      "outputs": [
        {
          "output_type": "execute_result",
          "data": {
            "text/plain": [
              "Student ID                        0\n",
              "Age                               0\n",
              "Gender                            0\n",
              "Home Region                       0\n",
              "Home City                         0\n",
              "Program ID                        0\n",
              "Program Main Category Code        0\n",
              "Program Sub Category Code         0\n",
              "Technology Type                   0\n",
              "Program Skill Level               0\n",
              "Program Presentation Method       0\n",
              "Program Days                      0\n",
              "Completed Degree                  0\n",
              "Level of Education                0\n",
              "Education Speaciality             0\n",
              "College                           0\n",
              "University Degree Score           0\n",
              "University Degree Score System    0\n",
              "Employment Status                 0\n",
              "Job Type                          0\n",
              "Still Working                     0\n",
              "Start_year                        0\n",
              "Start_month                       0\n",
              "Start_day                         0\n",
              "End_year                          0\n",
              "End_month                         0\n",
              "End_day                           0\n",
              "dtype: int64"
            ]
          },
          "metadata": {},
          "execution_count": 61
        }
      ],
      "source": [
        "test_data.isnull().sum()"
      ]
    },
    {
      "cell_type": "code",
      "execution_count": 62,
      "id": "4b7b47f4",
      "metadata": {
        "id": "4b7b47f4"
      },
      "outputs": [],
      "source": [
        "X = train_data_encoded.drop(columns = 'Y')\n",
        "y = train_data_encoded['Y']\n",
        "X_train, X_val, y_train, y_val = train_test_split(X,y, test_size = 0.2 , random_state = 123)"
      ]
    },
    {
      "cell_type": "code",
      "execution_count": 63,
      "id": "edc2cd6b",
      "metadata": {
        "colab": {
          "base_uri": "https://localhost:8080/",
          "height": 76
        },
        "id": "edc2cd6b",
        "outputId": "a063148a-8d41-4e0a-e649-6a19dd38d969"
      },
      "outputs": [
        {
          "output_type": "execute_result",
          "data": {
            "text/plain": [
              "LogisticRegression()"
            ],
            "text/html": [
              "<style>#sk-container-id-1 {color: black;background-color: white;}#sk-container-id-1 pre{padding: 0;}#sk-container-id-1 div.sk-toggleable {background-color: white;}#sk-container-id-1 label.sk-toggleable__label {cursor: pointer;display: block;width: 100%;margin-bottom: 0;padding: 0.3em;box-sizing: border-box;text-align: center;}#sk-container-id-1 label.sk-toggleable__label-arrow:before {content: \"▸\";float: left;margin-right: 0.25em;color: #696969;}#sk-container-id-1 label.sk-toggleable__label-arrow:hover:before {color: black;}#sk-container-id-1 div.sk-estimator:hover label.sk-toggleable__label-arrow:before {color: black;}#sk-container-id-1 div.sk-toggleable__content {max-height: 0;max-width: 0;overflow: hidden;text-align: left;background-color: #f0f8ff;}#sk-container-id-1 div.sk-toggleable__content pre {margin: 0.2em;color: black;border-radius: 0.25em;background-color: #f0f8ff;}#sk-container-id-1 input.sk-toggleable__control:checked~div.sk-toggleable__content {max-height: 200px;max-width: 100%;overflow: auto;}#sk-container-id-1 input.sk-toggleable__control:checked~label.sk-toggleable__label-arrow:before {content: \"▾\";}#sk-container-id-1 div.sk-estimator input.sk-toggleable__control:checked~label.sk-toggleable__label {background-color: #d4ebff;}#sk-container-id-1 div.sk-label input.sk-toggleable__control:checked~label.sk-toggleable__label {background-color: #d4ebff;}#sk-container-id-1 input.sk-hidden--visually {border: 0;clip: rect(1px 1px 1px 1px);clip: rect(1px, 1px, 1px, 1px);height: 1px;margin: -1px;overflow: hidden;padding: 0;position: absolute;width: 1px;}#sk-container-id-1 div.sk-estimator {font-family: monospace;background-color: #f0f8ff;border: 1px dotted black;border-radius: 0.25em;box-sizing: border-box;margin-bottom: 0.5em;}#sk-container-id-1 div.sk-estimator:hover {background-color: #d4ebff;}#sk-container-id-1 div.sk-parallel-item::after {content: \"\";width: 100%;border-bottom: 1px solid gray;flex-grow: 1;}#sk-container-id-1 div.sk-label:hover label.sk-toggleable__label {background-color: #d4ebff;}#sk-container-id-1 div.sk-serial::before {content: \"\";position: absolute;border-left: 1px solid gray;box-sizing: border-box;top: 0;bottom: 0;left: 50%;z-index: 0;}#sk-container-id-1 div.sk-serial {display: flex;flex-direction: column;align-items: center;background-color: white;padding-right: 0.2em;padding-left: 0.2em;position: relative;}#sk-container-id-1 div.sk-item {position: relative;z-index: 1;}#sk-container-id-1 div.sk-parallel {display: flex;align-items: stretch;justify-content: center;background-color: white;position: relative;}#sk-container-id-1 div.sk-item::before, #sk-container-id-1 div.sk-parallel-item::before {content: \"\";position: absolute;border-left: 1px solid gray;box-sizing: border-box;top: 0;bottom: 0;left: 50%;z-index: -1;}#sk-container-id-1 div.sk-parallel-item {display: flex;flex-direction: column;z-index: 1;position: relative;background-color: white;}#sk-container-id-1 div.sk-parallel-item:first-child::after {align-self: flex-end;width: 50%;}#sk-container-id-1 div.sk-parallel-item:last-child::after {align-self: flex-start;width: 50%;}#sk-container-id-1 div.sk-parallel-item:only-child::after {width: 0;}#sk-container-id-1 div.sk-dashed-wrapped {border: 1px dashed gray;margin: 0 0.4em 0.5em 0.4em;box-sizing: border-box;padding-bottom: 0.4em;background-color: white;}#sk-container-id-1 div.sk-label label {font-family: monospace;font-weight: bold;display: inline-block;line-height: 1.2em;}#sk-container-id-1 div.sk-label-container {text-align: center;}#sk-container-id-1 div.sk-container {/* jupyter's `normalize.less` sets `[hidden] { display: none; }` but bootstrap.min.css set `[hidden] { display: none !important; }` so we also need the `!important` here to be able to override the default hidden behavior on the sphinx rendered scikit-learn.org. See: https://github.com/scikit-learn/scikit-learn/issues/21755 */display: inline-block !important;position: relative;}#sk-container-id-1 div.sk-text-repr-fallback {display: none;}</style><div id=\"sk-container-id-1\" class=\"sk-top-container\"><div class=\"sk-text-repr-fallback\"><pre>LogisticRegression()</pre><b>In a Jupyter environment, please rerun this cell to show the HTML representation or trust the notebook. <br />On GitHub, the HTML representation is unable to render, please try loading this page with nbviewer.org.</b></div><div class=\"sk-container\" hidden><div class=\"sk-item\"><div class=\"sk-estimator sk-toggleable\"><input class=\"sk-toggleable__control sk-hidden--visually\" id=\"sk-estimator-id-1\" type=\"checkbox\" checked><label for=\"sk-estimator-id-1\" class=\"sk-toggleable__label sk-toggleable__label-arrow\">LogisticRegression</label><div class=\"sk-toggleable__content\"><pre>LogisticRegression()</pre></div></div></div></div></div>"
            ]
          },
          "metadata": {},
          "execution_count": 63
        }
      ],
      "source": [
        "LR = LogisticRegression()\n",
        "LR.fit(X_train,y_train)"
      ]
    },
    {
      "cell_type": "code",
      "execution_count": 64,
      "id": "a336af2a",
      "metadata": {
        "colab": {
          "base_uri": "https://localhost:8080/"
        },
        "id": "a336af2a",
        "outputId": "d16be95d-1d90-4ab8-efd9-de845f411cf3"
      },
      "outputs": [
        {
          "output_type": "execute_result",
          "data": {
            "text/plain": [
              "0.8567980691874497"
            ]
          },
          "metadata": {},
          "execution_count": 64
        }
      ],
      "source": [
        "y_hat = LR.predict(X_val)\n",
        "accuracy_score(y_val,y_hat )"
      ]
    },
    {
      "cell_type": "code",
      "execution_count": 65,
      "id": "4ffd43a5",
      "metadata": {
        "colab": {
          "base_uri": "https://localhost:8080/"
        },
        "id": "4ffd43a5",
        "outputId": "a50884ae-9bcc-401e-d8c3-1369d799cd71"
      },
      "outputs": [
        {
          "output_type": "stream",
          "name": "stdout",
          "text": [
            "              precision    recall  f1-score   support\n",
            "\n",
            "           0       0.89      0.94      0.92      1054\n",
            "           1       0.54      0.38      0.45       189\n",
            "\n",
            "    accuracy                           0.86      1243\n",
            "   macro avg       0.72      0.66      0.68      1243\n",
            "weighted avg       0.84      0.86      0.85      1243\n",
            "\n"
          ]
        }
      ],
      "source": [
        "print(classification_report(y_val,y_hat))"
      ]
    },
    {
      "cell_type": "code",
      "execution_count": 66,
      "id": "afe4c945",
      "metadata": {
        "id": "afe4c945"
      },
      "outputs": [],
      "source": [
        "#pridect\n",
        "#LR.predict(test_data_encoded)"
      ]
    },
    {
      "cell_type": "code",
      "execution_count": 67,
      "id": "40fc5dad",
      "metadata": {
        "colab": {
          "base_uri": "https://localhost:8080/",
          "height": 564
        },
        "id": "40fc5dad",
        "outputId": "36f17352-72a1-4433-df1c-54ab8008534c"
      },
      "outputs": [
        {
          "output_type": "display_data",
          "data": {
            "text/plain": [
              "<Figure size 800x600 with 1 Axes>"
            ],
            "image/png": "[encoded data removed]"
          },
          "metadata": {}
        }
      ],
      "source": [
        "conf_matrix_lr = confusion_matrix(y_val, y_hat)\n",
        "\n",
        "plt.figure(figsize=(8, 6))\n",
        "sns.heatmap(conf_matrix_lr, annot=True, fmt=\"d\", cmap=\"Blues\", cbar=False,\n",
        "            xticklabels=[\"Negative\", \"Positive\"], yticklabels=[\"Negative\", \"Positive\"])\n",
        "plt.title(\"Confusion Matrix - Logistic Regression\")\n",
        "plt.xlabel(\"Predicted\")\n",
        "plt.ylabel(\"Actual\")\n",
        "plt.show()"
      ]
    },
    {
      "cell_type": "code",
      "execution_count": 67,
      "id": "2f0dcc65",
      "metadata": {
        "id": "2f0dcc65"
      },
      "outputs": [],
      "source": []
    },
    {
      "cell_type": "code",
      "execution_count": 68,
      "id": "ae2b5618",
      "metadata": {
        "colab": {
          "base_uri": "https://localhost:8080/"
        },
        "id": "ae2b5618",
        "outputId": "95c24e91-a623-4a6a-888d-4522686f10f9"
      },
      "outputs": [
        {
          "output_type": "execute_result",
          "data": {
            "text/plain": [
              "0.8777152051488335"
            ]
          },
          "metadata": {},
          "execution_count": 68
        }
      ],
      "source": [
        "rfclf = RandomForestClassifier()\n",
        "rfclf.fit(X_train,y_train)\n",
        "y_hat = rfclf.predict(X_val)\n",
        "accuracy_score(y_val,y_hat)"
      ]
    },
    {
      "cell_type": "code",
      "execution_count": 69,
      "id": "0d48aa7d",
      "metadata": {
        "colab": {
          "base_uri": "https://localhost:8080/",
          "height": 564
        },
        "id": "0d48aa7d",
        "outputId": "2e2ac1d8-6c6e-46d6-a27b-c70a5173b92c"
      },
      "outputs": [
        {
          "output_type": "display_data",
          "data": {
            "text/plain": [
              "<Figure size 800x600 with 1 Axes>"
            ],
            "image/png": "[encoded data removed]"
          },
          "metadata": {}
        }
      ],
      "source": [
        "conf_matrix_lr = confusion_matrix(y_val, y_hat)\n",
        "\n",
        "plt.figure(figsize=(8, 6))\n",
        "sns.heatmap(conf_matrix_lr, annot=True, fmt=\"d\", cmap=\"Blues\", cbar=False,\n",
        "            xticklabels=[\"Negative\", \"Positive\"], yticklabels=[\"Negative\", \"Positive\"])\n",
        "plt.title(\"Confusion Matrix - RandomForestClassifier\")\n",
        "plt.xlabel(\"Predicted\")\n",
        "plt.ylabel(\"Actual\")\n",
        "plt.show()"
      ]
    },
    {
      "cell_type": "code",
      "execution_count": 70,
      "id": "33750f86",
      "metadata": {
        "scrolled": true,
        "colab": {
          "base_uri": "https://localhost:8080/",
          "height": 116
        },
        "id": "33750f86",
        "outputId": "6122e5af-9184-457d-b296-d9f3d685d38e"
      },
      "outputs": [
        {
          "output_type": "execute_result",
          "data": {
            "text/plain": [
              "RandomizedSearchCV(estimator=RandomForestClassifier(),\n",
              "                   param_distributions={'bootstrap': [True, False],\n",
              "                                        'max_depth': <scipy.stats._distn_infrastructure.rv_discrete_frozen object at 0x7b848f3dbca0>,\n",
              "                                        'max_features': ['auto', 'sqrt', 'log2',\n",
              "                                                         None],\n",
              "                                        'min_samples_leaf': <scipy.stats._distn_infrastructure.rv_discrete_frozen object at 0x7b848f3dadd0>,\n",
              "                                        'min_samples_split': <scipy.stats._distn_infrastructure.rv_discrete_frozen object at 0x7b848faab8b0>,\n",
              "                                        'n_estimators': <scipy.stats._distn_infrastructure.rv_discrete_frozen object at 0x7b848f337430>},\n",
              "                   random_state=42)"
            ],
            "text/html": [
              "<style>#sk-container-id-2 {color: black;background-color: white;}#sk-container-id-2 pre{padding: 0;}#sk-container-id-2 div.sk-toggleable {background-color: white;}#sk-container-id-2 label.sk-toggleable__label {cursor: pointer;display: block;width: 100%;margin-bottom: 0;padding: 0.3em;box-sizing: border-box;text-align: center;}#sk-container-id-2 label.sk-toggleable__label-arrow:before {content: \"▸\";float: left;margin-right: 0.25em;color: #696969;}#sk-container-id-2 label.sk-toggleable__label-arrow:hover:before {color: black;}#sk-container-id-2 div.sk-estimator:hover label.sk-toggleable__label-arrow:before {color: black;}#sk-container-id-2 div.sk-toggleable__content {max-height: 0;max-width: 0;overflow: hidden;text-align: left;background-color: #f0f8ff;}#sk-container-id-2 div.sk-toggleable__content pre {margin: 0.2em;color: black;border-radius: 0.25em;background-color: #f0f8ff;}#sk-container-id-2 input.sk-toggleable__control:checked~div.sk-toggleable__content {max-height: 200px;max-width: 100%;overflow: auto;}#sk-container-id-2 input.sk-toggleable__control:checked~label.sk-toggleable__label-arrow:before {content: \"▾\";}#sk-container-id-2 div.sk-estimator input.sk-toggleable__control:checked~label.sk-toggleable__label {background-color: #d4ebff;}#sk-container-id-2 div.sk-label input.sk-toggleable__control:checked~label.sk-toggleable__label {background-color: #d4ebff;}#sk-container-id-2 input.sk-hidden--visually {border: 0;clip: rect(1px 1px 1px 1px);clip: rect(1px, 1px, 1px, 1px);height: 1px;margin: -1px;overflow: hidden;padding: 0;position: absolute;width: 1px;}#sk-container-id-2 div.sk-estimator {font-family: monospace;background-color: #f0f8ff;border: 1px dotted black;border-radius: 0.25em;box-sizing: border-box;margin-bottom: 0.5em;}#sk-container-id-2 div.sk-estimator:hover {background-color: #d4ebff;}#sk-container-id-2 div.sk-parallel-item::after {content: \"\";width: 100%;border-bottom: 1px solid gray;flex-grow: 1;}#sk-container-id-2 div.sk-label:hover label.sk-toggleable__label {background-color: #d4ebff;}#sk-container-id-2 div.sk-serial::before {content: \"\";position: absolute;border-left: 1px solid gray;box-sizing: border-box;top: 0;bottom: 0;left: 50%;z-index: 0;}#sk-container-id-2 div.sk-serial {display: flex;flex-direction: column;align-items: center;background-color: white;padding-right: 0.2em;padding-left: 0.2em;position: relative;}#sk-container-id-2 div.sk-item {position: relative;z-index: 1;}#sk-container-id-2 div.sk-parallel {display: flex;align-items: stretch;justify-content: center;background-color: white;position: relative;}#sk-container-id-2 div.sk-item::before, #sk-container-id-2 div.sk-parallel-item::before {content: \"\";position: absolute;border-left: 1px solid gray;box-sizing: border-box;top: 0;bottom: 0;left: 50%;z-index: -1;}#sk-container-id-2 div.sk-parallel-item {display: flex;flex-direction: column;z-index: 1;position: relative;background-color: white;}#sk-container-id-2 div.sk-parallel-item:first-child::after {align-self: flex-end;width: 50%;}#sk-container-id-2 div.sk-parallel-item:last-child::after {align-self: flex-start;width: 50%;}#sk-container-id-2 div.sk-parallel-item:only-child::after {width: 0;}#sk-container-id-2 div.sk-dashed-wrapped {border: 1px dashed gray;margin: 0 0.4em 0.5em 0.4em;box-sizing: border-box;padding-bottom: 0.4em;background-color: white;}#sk-container-id-2 div.sk-label label {font-family: monospace;font-weight: bold;display: inline-block;line-height: 1.2em;}#sk-container-id-2 div.sk-label-container {text-align: center;}#sk-container-id-2 div.sk-container {/* jupyter's `normalize.less` sets `[hidden] { display: none; }` but bootstrap.min.css set `[hidden] { display: none !important; }` so we also need the `!important` here to be able to override the default hidden behavior on the sphinx rendered scikit-learn.org. See: https://github.com/scikit-learn/scikit-learn/issues/21755 */display: inline-block !important;position: relative;}#sk-container-id-2 div.sk-text-repr-fallback {display: none;}</style><div id=\"sk-container-id-2\" class=\"sk-top-container\"><div class=\"sk-text-repr-fallback\"><pre>RandomizedSearchCV(estimator=RandomForestClassifier(),\n",
              "                   param_distributions={&#x27;bootstrap&#x27;: [True, False],\n",
              "                                        &#x27;max_depth&#x27;: &lt;scipy.stats._distn_infrastructure.rv_discrete_frozen object at 0x7b848f3dbca0&gt;,\n",
              "                                        &#x27;max_features&#x27;: [&#x27;auto&#x27;, &#x27;sqrt&#x27;, &#x27;log2&#x27;,\n",
              "                                                         None],\n",
              "                                        &#x27;min_samples_leaf&#x27;: &lt;scipy.stats._distn_infrastructure.rv_discrete_frozen object at 0x7b848f3dadd0&gt;,\n",
              "                                        &#x27;min_samples_split&#x27;: &lt;scipy.stats._distn_infrastructure.rv_discrete_frozen object at 0x7b848faab8b0&gt;,\n",
              "                                        &#x27;n_estimators&#x27;: &lt;scipy.stats._distn_infrastructure.rv_discrete_frozen object at 0x7b848f337430&gt;},\n",
              "                   random_state=42)</pre><b>In a Jupyter environment, please rerun this cell to show the HTML representation or trust the notebook. <br />On GitHub, the HTML representation is unable to render, please try loading this page with nbviewer.org.</b></div><div class=\"sk-container\" hidden><div class=\"sk-item sk-dashed-wrapped\"><div class=\"sk-label-container\"><div class=\"sk-label sk-toggleable\"><input class=\"sk-toggleable__control sk-hidden--visually\" id=\"sk-estimator-id-2\" type=\"checkbox\" ><label for=\"sk-estimator-id-2\" class=\"sk-toggleable__label sk-toggleable__label-arrow\">RandomizedSearchCV</label><div class=\"sk-toggleable__content\"><pre>RandomizedSearchCV(estimator=RandomForestClassifier(),\n",
              "                   param_distributions={&#x27;bootstrap&#x27;: [True, False],\n",
              "                                        &#x27;max_depth&#x27;: &lt;scipy.stats._distn_infrastructure.rv_discrete_frozen object at 0x7b848f3dbca0&gt;,\n",
              "                                        &#x27;max_features&#x27;: [&#x27;auto&#x27;, &#x27;sqrt&#x27;, &#x27;log2&#x27;,\n",
              "                                                         None],\n",
              "                                        &#x27;min_samples_leaf&#x27;: &lt;scipy.stats._distn_infrastructure.rv_discrete_frozen object at 0x7b848f3dadd0&gt;,\n",
              "                                        &#x27;min_samples_split&#x27;: &lt;scipy.stats._distn_infrastructure.rv_discrete_frozen object at 0x7b848faab8b0&gt;,\n",
              "                                        &#x27;n_estimators&#x27;: &lt;scipy.stats._distn_infrastructure.rv_discrete_frozen object at 0x7b848f337430&gt;},\n",
              "                   random_state=42)</pre></div></div></div><div class=\"sk-parallel\"><div class=\"sk-parallel-item\"><div class=\"sk-item\"><div class=\"sk-label-container\"><div class=\"sk-label sk-toggleable\"><input class=\"sk-toggleable__control sk-hidden--visually\" id=\"sk-estimator-id-3\" type=\"checkbox\" ><label for=\"sk-estimator-id-3\" class=\"sk-toggleable__label sk-toggleable__label-arrow\">estimator: RandomForestClassifier</label><div class=\"sk-toggleable__content\"><pre>RandomForestClassifier()</pre></div></div></div><div class=\"sk-serial\"><div class=\"sk-item\"><div class=\"sk-estimator sk-toggleable\"><input class=\"sk-toggleable__control sk-hidden--visually\" id=\"sk-estimator-id-4\" type=\"checkbox\" ><label for=\"sk-estimator-id-4\" class=\"sk-toggleable__label sk-toggleable__label-arrow\">RandomForestClassifier</label><div class=\"sk-toggleable__content\"><pre>RandomForestClassifier()</pre></div></div></div></div></div></div></div></div></div></div>"
            ]
          },
          "metadata": {},
          "execution_count": 70
        }
      ],
      "source": [
        "param_grid = {\n",
        "    'n_estimators': randint(10, 30),\n",
        "    'max_depth': randint(1, 20),\n",
        "    'min_samples_split': randint(2, 20),\n",
        "    'min_samples_leaf': randint(1, 20),\n",
        "    'max_features': ['auto', 'sqrt', 'log2', None],\n",
        "    'bootstrap': [True, False]\n",
        "}\n",
        "grid = RandomizedSearchCV(rfclf, param_distributions=param_grid, random_state=42)\n",
        "grid.fit(X_train,y_train)"
      ]
    },
    {
      "cell_type": "code",
      "execution_count": 71,
      "id": "bdc7a7c3",
      "metadata": {
        "colab": {
          "base_uri": "https://localhost:8080/"
        },
        "id": "bdc7a7c3",
        "outputId": "7fc89a20-8914-4cd7-f9e7-234c99ffbed3"
      },
      "outputs": [
        {
          "output_type": "stream",
          "name": "stdout",
          "text": [
            "{'bootstrap': True, 'max_depth': 15, 'max_features': 'log2', 'min_samples_leaf': 8, 'min_samples_split': 8, 'n_estimators': 28}\n",
            "0.8839258667583391\n"
          ]
        }
      ],
      "source": [
        "print(grid.best_params_)\n",
        "print(grid.best_score_)"
      ]
    },
    {
      "cell_type": "code",
      "execution_count": 72,
      "id": "d32cdac8",
      "metadata": {
        "id": "d32cdac8"
      },
      "outputs": [],
      "source": [
        "y_test = rfclf.predict(test_data_encoded)"
      ]
    },
    {
      "cell_type": "code",
      "execution_count": 73,
      "id": "82d839b0",
      "metadata": {
        "id": "82d839b0"
      },
      "outputs": [],
      "source": [
        "#y_test"
      ]
    },
    {
      "cell_type": "code",
      "execution_count": 74,
      "id": "e07dd582",
      "metadata": {
        "colab": {
          "base_uri": "https://localhost:8080/"
        },
        "id": "e07dd582",
        "outputId": "e885828c-ee9a-4d35-f489-eb5db82db0ca"
      },
      "outputs": [
        {
          "output_type": "stream",
          "name": "stdout",
          "text": [
            "              precision    recall  f1-score   support\n",
            "\n",
            "           0       0.92      0.94      0.93      1054\n",
            "           1       0.62      0.51      0.56       189\n",
            "\n",
            "    accuracy                           0.88      1243\n",
            "   macro avg       0.77      0.73      0.74      1243\n",
            "weighted avg       0.87      0.88      0.87      1243\n",
            "\n"
          ]
        }
      ],
      "source": [
        "print(classification_report(y_val,y_hat))"
      ]
    },
    {
      "cell_type": "code",
      "execution_count": 75,
      "id": "cc29b79f",
      "metadata": {
        "colab": {
          "base_uri": "https://localhost:8080/"
        },
        "id": "cc29b79f",
        "outputId": "bd70ee56-def0-4fe0-dd7a-3fbc1a10c722"
      },
      "outputs": [
        {
          "output_type": "execute_result",
          "data": {
            "text/plain": [
              "0.8479485116653258"
            ]
          },
          "metadata": {},
          "execution_count": 75
        }
      ],
      "source": [
        "SVM = SVC()\n",
        "SVM.fit(X_train,y_train)\n",
        "y_hat = SVM.predict(X_val)\n",
        "accuracy_score(y_val,y_hat)"
      ]
    },
    {
      "cell_type": "code",
      "execution_count": 76,
      "id": "fee78069",
      "metadata": {
        "colab": {
          "base_uri": "https://localhost:8080/",
          "height": 564
        },
        "id": "fee78069",
        "outputId": "4a50eb94-a28f-4652-fd3c-c4842f034e45"
      },
      "outputs": [
        {
          "output_type": "display_data",
          "data": {
            "text/plain": [
              "<Figure size 800x600 with 1 Axes>"
            ],
            "image/png": "[encoded data removed]"
          },
          "metadata": {}
        }
      ],
      "source": [
        "conf_matrix_lr = confusion_matrix(y_val, y_hat)\n",
        "\n",
        "plt.figure(figsize=(8, 6))\n",
        "sns.heatmap(conf_matrix_lr, annot=True, fmt=\"d\", cmap=\"Blues\", cbar=False,\n",
        "            xticklabels=[\"Negative\", \"Positive\"], yticklabels=[\"Negative\", \"Positive\"])\n",
        "plt.title(\"Confusion Matrix - SVM\")\n",
        "plt.xlabel(\"Predicted\")\n",
        "plt.ylabel(\"Actual\")\n",
        "plt.show()"
      ]
    },
    {
      "cell_type": "code",
      "execution_count": 77,
      "id": "cce631ba",
      "metadata": {
        "colab": {
          "base_uri": "https://localhost:8080/"
        },
        "id": "cce631ba",
        "outputId": "4681e747-1460-40ac-ca37-4565032fbdc7"
      },
      "outputs": [
        {
          "output_type": "stream",
          "name": "stdout",
          "text": [
            "              precision    recall  f1-score   support\n",
            "\n",
            "           0       0.85      1.00      0.92      1054\n",
            "           1       0.00      0.00      0.00       189\n",
            "\n",
            "    accuracy                           0.85      1243\n",
            "   macro avg       0.42      0.50      0.46      1243\n",
            "weighted avg       0.72      0.85      0.78      1243\n",
            "\n"
          ]
        }
      ],
      "source": [
        "print(classification_report(y_val,y_hat))"
      ]
    },
    {
      "cell_type": "code",
      "execution_count": 78,
      "id": "c34e436e",
      "metadata": {
        "id": "c34e436e"
      },
      "outputs": [],
      "source": [
        "prediction = rfclf.predict(test_data_encoded)"
      ]
    },
    {
      "cell_type": "code",
      "execution_count": 79,
      "id": "d2f9533a",
      "metadata": {
        "id": "d2f9533a"
      },
      "outputs": [],
      "source": [
        "pd.DataFrame(prediction, columns=['predictions']).to_csv('prediction.csv')"
      ]
    },
    {
      "cell_type": "code",
      "execution_count": 79,
      "id": "d3c73cc8",
      "metadata": {
        "id": "d3c73cc8"
      },
      "outputs": [],
      "source": []
    }
  ],
  "metadata": {
    "colab": {
      "provenance": [],
      "include_colab_link": true
    },
    "kernelspec": {
      "display_name": "Python 3 (ipykernel)",
      "language": "python",
      "name": "python3"
    },
    "language_info": {
      "codemirror_mode": {
        "name": "ipython",
        "version": 3
      },
      "file_extension": ".py",
      "mimetype": "text/x-python",
      "name": "python",
      "nbconvert_exporter": "python",
      "pygments_lexer": "ipython3",
      "version": "3.11.7"
    }
  },
  "nbformat": 4,
  "nbformat_minor": 5
}